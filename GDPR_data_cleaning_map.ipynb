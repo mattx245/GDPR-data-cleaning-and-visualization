{
 "cells": [
  {
   "cell_type": "markdown",
   "id": "7a0638db",
   "metadata": {},
   "source": [
    "Data cleaning for the gdpr violations dataset. To be used with the interactive Vega Lite visualization. Source: https://github.com/rfordatascience/tidytuesday/blob/master/data/2020/2020-04-21/readme.md "
   ]
  },
  {
   "cell_type": "code",
   "execution_count": 57,
   "id": "30815e68",
   "metadata": {},
   "outputs": [
    {
     "name": "stdout",
     "output_type": "stream",
     "text": [
      "Requirement already satisfied: geopandas in c:\\users\\mattx\\anaconda3.2\\lib\\site-packages (0.14.1)\n",
      "Requirement already satisfied: pandas>=1.4.0 in c:\\users\\mattx\\anaconda3.2\\lib\\site-packages (from geopandas) (1.4.4)\n",
      "Requirement already satisfied: shapely>=1.8.0 in c:\\users\\mattx\\anaconda3.2\\lib\\site-packages (from geopandas) (2.0.2)\n",
      "Requirement already satisfied: pyproj>=3.3.0 in c:\\users\\mattx\\anaconda3.2\\lib\\site-packages (from geopandas) (3.6.1)\n",
      "Requirement already satisfied: fiona>=1.8.21 in c:\\users\\mattx\\anaconda3.2\\lib\\site-packages (from geopandas) (1.9.5)\n",
      "Requirement already satisfied: packaging in c:\\users\\mattx\\anaconda3.2\\lib\\site-packages (from geopandas) (21.3)\n",
      "Requirement already satisfied: six in c:\\users\\mattx\\anaconda3.2\\lib\\site-packages (from fiona>=1.8.21->geopandas) (1.16.0)\n",
      "Requirement already satisfied: certifi in c:\\users\\mattx\\anaconda3.2\\lib\\site-packages (from fiona>=1.8.21->geopandas) (2022.12.7)\n",
      "Requirement already satisfied: click-plugins>=1.0 in c:\\users\\mattx\\anaconda3.2\\lib\\site-packages (from fiona>=1.8.21->geopandas) (1.1.1)\n",
      "Requirement already satisfied: attrs>=19.2.0 in c:\\users\\mattx\\anaconda3.2\\lib\\site-packages (from fiona>=1.8.21->geopandas) (21.4.0)\n",
      "Requirement already satisfied: cligj>=0.5 in c:\\users\\mattx\\anaconda3.2\\lib\\site-packages (from fiona>=1.8.21->geopandas) (0.7.2)\n",
      "Requirement already satisfied: setuptools in c:\\users\\mattx\\anaconda3.2\\lib\\site-packages (from fiona>=1.8.21->geopandas) (63.4.1)\n",
      "Requirement already satisfied: click~=8.0 in c:\\users\\mattx\\anaconda3.2\\lib\\site-packages (from fiona>=1.8.21->geopandas) (8.0.4)\n",
      "Requirement already satisfied: importlib-metadata in c:\\users\\mattx\\anaconda3.2\\lib\\site-packages (from fiona>=1.8.21->geopandas) (4.11.3)\n",
      "Requirement already satisfied: python-dateutil>=2.8.1 in c:\\users\\mattx\\anaconda3.2\\lib\\site-packages (from pandas>=1.4.0->geopandas) (2.8.2)\n",
      "Requirement already satisfied: pytz>=2020.1 in c:\\users\\mattx\\anaconda3.2\\lib\\site-packages (from pandas>=1.4.0->geopandas) (2022.1)\n",
      "Requirement already satisfied: numpy>=1.18.5 in c:\\users\\mattx\\anaconda3.2\\lib\\site-packages (from pandas>=1.4.0->geopandas) (1.21.5)\n",
      "Requirement already satisfied: pyparsing!=3.0.5,>=2.0.2 in c:\\users\\mattx\\anaconda3.2\\lib\\site-packages (from packaging->geopandas) (3.0.9)\n",
      "Requirement already satisfied: colorama in c:\\users\\mattx\\anaconda3.2\\lib\\site-packages (from click~=8.0->fiona>=1.8.21->geopandas) (0.4.5)\n",
      "Requirement already satisfied: zipp>=0.5 in c:\\users\\mattx\\anaconda3.2\\lib\\site-packages (from importlib-metadata->fiona>=1.8.21->geopandas) (3.8.0)\n",
      "<class 'pandas.core.frame.DataFrame'>\n",
      "RangeIndex: 250 entries, 0 to 249\n",
      "Data columns (total 11 columns):\n",
      " #   Column            Non-Null Count  Dtype \n",
      "---  ------            --------------  ----- \n",
      " 0   id                250 non-null    int64 \n",
      " 1   picture           250 non-null    object\n",
      " 2   name              250 non-null    object\n",
      " 3   price             250 non-null    int64 \n",
      " 4   authority         250 non-null    object\n",
      " 5   date              250 non-null    object\n",
      " 6   controller        250 non-null    object\n",
      " 7   article_violated  250 non-null    object\n",
      " 8   type              250 non-null    object\n",
      " 9   source            250 non-null    object\n",
      " 10  summary           250 non-null    object\n",
      "dtypes: int64(2), object(9)\n",
      "memory usage: 21.6+ KB\n"
     ]
    }
   ],
   "source": [
    "import pandas as pd\n",
    "import numpy as np\n",
    "!pip install geopandas\n",
    "import geopandas as gpd\n",
    "from shapely.wkt import loads\n",
    "\n",
    "#read dataframe from tsv\n",
    "df = pd.read_table(\"C:/Users/mattx/Downloads/gdpr_violations.tsv\")\n",
    "\n",
    "#basic info on dataframe columns\n",
    "df.info()"
   ]
  },
  {
   "cell_type": "code",
   "execution_count": 58,
   "id": "7c28b58c",
   "metadata": {},
   "outputs": [
    {
     "data": {
      "text/plain": [
       "0"
      ]
     },
     "execution_count": 58,
     "metadata": {},
     "output_type": "execute_result"
    }
   ],
   "source": [
    "#checking for duplicate values\n",
    "df.duplicated().sum()"
   ]
  },
  {
   "cell_type": "code",
   "execution_count": 59,
   "id": "207c0b0a",
   "metadata": {},
   "outputs": [],
   "source": [
    "#changing ID to object to reflect categorical nature\n",
    "df['id'] = df['id'].astype(object)"
   ]
  },
  {
   "cell_type": "code",
   "execution_count": 60,
   "id": "a98c65b7",
   "metadata": {},
   "outputs": [
    {
     "name": "stdout",
     "output_type": "stream",
     "text": [
      "<class 'pandas.core.frame.DataFrame'>\n",
      "RangeIndex: 250 entries, 0 to 249\n",
      "Data columns (total 8 columns):\n",
      " #   Column            Non-Null Count  Dtype \n",
      "---  ------            --------------  ----- \n",
      " 0   id                250 non-null    object\n",
      " 1   name              250 non-null    object\n",
      " 2   price             250 non-null    int64 \n",
      " 3   authority         250 non-null    object\n",
      " 4   date              250 non-null    object\n",
      " 5   controller        250 non-null    object\n",
      " 6   article_violated  250 non-null    object\n",
      " 7   type              250 non-null    object\n",
      "dtypes: int64(1), object(7)\n",
      "memory usage: 15.8+ KB\n"
     ]
    }
   ],
   "source": [
    "#removing source, summary, and picture, as they are not relevant to data visualization\n",
    "df = df.drop(columns=['picture', 'source', 'summary'])\n",
    "df.info()"
   ]
  },
  {
   "cell_type": "code",
   "execution_count": 61,
   "id": "8f373fd9",
   "metadata": {},
   "outputs": [
    {
     "name": "stdout",
     "output_type": "stream",
     "text": [
      "id: 0.0\n",
      "name: 0.0\n",
      "price: 0.0\n",
      "authority: 0.0\n",
      "date: 0.0\n",
      "controller: 0.0\n",
      "article_violated: 0.0\n",
      "type: 0.0\n"
     ]
    }
   ],
   "source": [
    "#checking for missing data\n",
    "for item in ['id', 'name', 'price', 'authority', 'date', 'controller', 'article_violated', 'type']:\n",
    "    pct_missing = df[item].isnull().sum() * 100 /len(df)\n",
    "    print(f\"{item}: {pct_missing}\")\n",
    "    \n",
    "#no missing data"
   ]
  },
  {
   "cell_type": "code",
   "execution_count": 62,
   "id": "c100e4b1",
   "metadata": {},
   "outputs": [
    {
     "name": "stdout",
     "output_type": "stream",
     "text": [
      "  id     name   price                                          authority  \\\n",
      "0  1   Poland    9380  Polish National Personal Data Protection Offic...   \n",
      "1  2  Romania    2500  Romanian National Supervisory Authority for Pe...   \n",
      "2  3    Spain   60000           Spanish Data Protection Authority (AEPD)   \n",
      "3  4    Spain    8000           Spanish Data Protection Authority (AEPD)   \n",
      "4  5  Romania  150000  Romanian National Supervisory Authority for Pe...   \n",
      "\n",
      "         date          controller  \\\n",
      "0  10/18/2019        Polish Mayor   \n",
      "1  10/17/2019    UTTIS INDUSTRIES   \n",
      "2  10/16/2019  Xfera Moviles S.A.   \n",
      "3  10/16/2019  Iberdrola Clientes   \n",
      "4  10/09/2019  Raiffeisen Bank SA   \n",
      "\n",
      "                                    article_violated  \\\n",
      "0                                       Art. 28 GDPR   \n",
      "1  Art. 12 GDPR|Art. 13 GDPR|Art. 5 (1) c) GDPR|A...   \n",
      "2                            Art. 5 GDPR|Art. 6 GDPR   \n",
      "3                                       Art. 31 GDPR   \n",
      "4                                       Art. 32 GDPR   \n",
      "\n",
      "                                                type  \\\n",
      "0  Non-compliance with lawful basis for data proc...   \n",
      "1              Information obligation non-compliance   \n",
      "2  Non-compliance with lawful basis for data proc...   \n",
      "3    Failure to cooperate with supervisory authority   \n",
      "4  Failure to implement sufficient measures to en...   \n",
      "\n",
      "                                            geometry  \n",
      "0  POLYGON ((23.48413 53.91250, 23.52754 53.47012...  \n",
      "1  POLYGON ((28.23355 45.48828, 28.67978 45.30403...  \n",
      "2  POLYGON ((-7.45373 37.09779, -7.53711 37.42890...  \n",
      "3  POLYGON ((-7.45373 37.09779, -7.53711 37.42890...  \n",
      "4  POLYGON ((28.23355 45.48828, 28.67978 45.30403...  \n"
     ]
    },
    {
     "name": "stderr",
     "output_type": "stream",
     "text": [
      "C:\\Users\\mattx\\AppData\\Local\\Temp\\ipykernel_9172\\1150336561.py:2: FutureWarning: The geopandas.dataset module is deprecated and will be removed in GeoPandas 1.0. You can get the original 'naturalearth_lowres' data from https://www.naturalearthdata.com/downloads/110m-cultural-vectors/.\n",
      "  world = gpd.read_file(gpd.datasets.get_path('naturalearth_lowres'))\n"
     ]
    }
   ],
   "source": [
    "#adding in geospatial data\n",
    "world = gpd.read_file(gpd.datasets.get_path('naturalearth_lowres'))\n",
    "\n",
    "df = pd.merge(df, world[['name', 'geometry']], how='left', on='name')\n",
    "\n",
    "print(df.head())"
   ]
  },
  {
   "cell_type": "code",
   "execution_count": 55,
   "id": "3f02d919",
   "metadata": {},
   "outputs": [
    {
     "name": "stdout",
     "output_type": "stream",
     "text": [
      "      name                                           geometry  \\\n",
      "0   Poland  POLYGON ((23.48412763844985 53.91249766704114,...   \n",
      "1  Romania  POLYGON ((28.23355350109904 45.48828318946829,...   \n",
      "2  Romania  POLYGON ((28.23355350109904 45.48828318946829,...   \n",
      "3  Romania  POLYGON ((28.23355350109904 45.48828318946829,...   \n",
      "4  Romania  POLYGON ((28.23355350109904 45.48828318946829,...   \n",
      "\n",
      "     article_violated  \n",
      "0        Art. 28 GDPR  \n",
      "1        Art. 12 GDPR  \n",
      "2        Art. 13 GDPR  \n",
      "3  Art. 5 (1) c) GDPR  \n",
      "4         Art. 6 GDPR  \n"
     ]
    }
   ],
   "source": [
    "#splitting multiple gdpr violations into rows and making a new dataframe with countrys/violations\n",
    "\n",
    "new = []\n",
    "\n",
    "for index, row in df.iterrows():\n",
    "    violations = row['article_violated'].split('|')\n",
    "    \n",
    "    for violation in violations:\n",
    "        uniquerow = {\n",
    "          'name':row['name'],\n",
    "            'geometry':row['geometry'],\n",
    "            'article_violated':violation.strip()\n",
    "        }\n",
    "        new.append(uniquerow)\n",
    "\n",
    "newdf = pd.DataFrame(new)\n",
    "\n",
    "print(newdf.head())"
   ]
  },
  {
   "cell_type": "code",
   "execution_count": 56,
   "id": "311b3fee",
   "metadata": {},
   "outputs": [
    {
     "ename": "TypeError",
     "evalue": "Expected bytes or string, got Polygon",
     "output_type": "error",
     "traceback": [
      "\u001b[1;31m---------------------------------------------------------------------------\u001b[0m",
      "\u001b[1;31mTypeError\u001b[0m                                 Traceback (most recent call last)",
      "\u001b[1;32m~\\AppData\\Local\\Temp\\ipykernel_9172\\1551033012.py\u001b[0m in \u001b[0;36m<module>\u001b[1;34m\u001b[0m\n\u001b[0;32m      1\u001b[0m \u001b[1;31m#exporting data to geojson\u001b[0m\u001b[1;33m\u001b[0m\u001b[1;33m\u001b[0m\u001b[0m\n\u001b[1;32m----> 2\u001b[1;33m \u001b[0mdf\u001b[0m\u001b[1;33m[\u001b[0m\u001b[1;34m\"geometry\"\u001b[0m\u001b[1;33m]\u001b[0m \u001b[1;33m=\u001b[0m \u001b[0mdf\u001b[0m\u001b[1;33m[\u001b[0m\u001b[1;34m\"geometry\"\u001b[0m\u001b[1;33m]\u001b[0m\u001b[1;33m.\u001b[0m\u001b[0mapply\u001b[0m\u001b[1;33m(\u001b[0m\u001b[0mloads\u001b[0m\u001b[1;33m)\u001b[0m\u001b[1;33m\u001b[0m\u001b[1;33m\u001b[0m\u001b[0m\n\u001b[0m\u001b[0;32m      3\u001b[0m \u001b[0mgdf\u001b[0m \u001b[1;33m=\u001b[0m \u001b[0mgpd\u001b[0m\u001b[1;33m.\u001b[0m\u001b[0mGeoDataFrame\u001b[0m\u001b[1;33m(\u001b[0m\u001b[0mdf\u001b[0m\u001b[1;33m,\u001b[0m \u001b[0mgeometry\u001b[0m\u001b[1;33m=\u001b[0m\u001b[1;34m\"geometry\"\u001b[0m\u001b[1;33m)\u001b[0m\u001b[1;33m\u001b[0m\u001b[1;33m\u001b[0m\u001b[0m\n\u001b[0;32m      4\u001b[0m \u001b[0mnewdf\u001b[0m\u001b[1;33m.\u001b[0m\u001b[0mto_file\u001b[0m\u001b[1;33m(\u001b[0m\u001b[1;34m'cleaned_gdpr_data_map.geojson'\u001b[0m\u001b[1;33m,\u001b[0m\u001b[0mdriver\u001b[0m\u001b[1;33m=\u001b[0m\u001b[1;34m\"GeoJSON\"\u001b[0m \u001b[1;33m)\u001b[0m\u001b[1;33m\u001b[0m\u001b[1;33m\u001b[0m\u001b[0m\n",
      "\u001b[1;32m~\\anaconda3.2\\lib\\site-packages\\pandas\\core\\series.py\u001b[0m in \u001b[0;36mapply\u001b[1;34m(self, func, convert_dtype, args, **kwargs)\u001b[0m\n\u001b[0;32m   4431\u001b[0m         \u001b[0mdtype\u001b[0m\u001b[1;33m:\u001b[0m \u001b[0mfloat64\u001b[0m\u001b[1;33m\u001b[0m\u001b[1;33m\u001b[0m\u001b[0m\n\u001b[0;32m   4432\u001b[0m         \"\"\"\n\u001b[1;32m-> 4433\u001b[1;33m         \u001b[1;32mreturn\u001b[0m \u001b[0mSeriesApply\u001b[0m\u001b[1;33m(\u001b[0m\u001b[0mself\u001b[0m\u001b[1;33m,\u001b[0m \u001b[0mfunc\u001b[0m\u001b[1;33m,\u001b[0m \u001b[0mconvert_dtype\u001b[0m\u001b[1;33m,\u001b[0m \u001b[0margs\u001b[0m\u001b[1;33m,\u001b[0m \u001b[0mkwargs\u001b[0m\u001b[1;33m)\u001b[0m\u001b[1;33m.\u001b[0m\u001b[0mapply\u001b[0m\u001b[1;33m(\u001b[0m\u001b[1;33m)\u001b[0m\u001b[1;33m\u001b[0m\u001b[1;33m\u001b[0m\u001b[0m\n\u001b[0m\u001b[0;32m   4434\u001b[0m \u001b[1;33m\u001b[0m\u001b[0m\n\u001b[0;32m   4435\u001b[0m     def _reduce(\n",
      "\u001b[1;32m~\\anaconda3.2\\lib\\site-packages\\pandas\\core\\apply.py\u001b[0m in \u001b[0;36mapply\u001b[1;34m(self)\u001b[0m\n\u001b[0;32m   1086\u001b[0m             \u001b[1;32mreturn\u001b[0m \u001b[0mself\u001b[0m\u001b[1;33m.\u001b[0m\u001b[0mapply_str\u001b[0m\u001b[1;33m(\u001b[0m\u001b[1;33m)\u001b[0m\u001b[1;33m\u001b[0m\u001b[1;33m\u001b[0m\u001b[0m\n\u001b[0;32m   1087\u001b[0m \u001b[1;33m\u001b[0m\u001b[0m\n\u001b[1;32m-> 1088\u001b[1;33m         \u001b[1;32mreturn\u001b[0m \u001b[0mself\u001b[0m\u001b[1;33m.\u001b[0m\u001b[0mapply_standard\u001b[0m\u001b[1;33m(\u001b[0m\u001b[1;33m)\u001b[0m\u001b[1;33m\u001b[0m\u001b[1;33m\u001b[0m\u001b[0m\n\u001b[0m\u001b[0;32m   1089\u001b[0m \u001b[1;33m\u001b[0m\u001b[0m\n\u001b[0;32m   1090\u001b[0m     \u001b[1;32mdef\u001b[0m \u001b[0magg\u001b[0m\u001b[1;33m(\u001b[0m\u001b[0mself\u001b[0m\u001b[1;33m)\u001b[0m\u001b[1;33m:\u001b[0m\u001b[1;33m\u001b[0m\u001b[1;33m\u001b[0m\u001b[0m\n",
      "\u001b[1;32m~\\anaconda3.2\\lib\\site-packages\\pandas\\core\\apply.py\u001b[0m in \u001b[0;36mapply_standard\u001b[1;34m(self)\u001b[0m\n\u001b[0;32m   1141\u001b[0m                 \u001b[1;31m# List[Union[Callable[..., Any], str]]]]]\"; expected\u001b[0m\u001b[1;33m\u001b[0m\u001b[1;33m\u001b[0m\u001b[0m\n\u001b[0;32m   1142\u001b[0m                 \u001b[1;31m# \"Callable[[Any], Any]\"\u001b[0m\u001b[1;33m\u001b[0m\u001b[1;33m\u001b[0m\u001b[0m\n\u001b[1;32m-> 1143\u001b[1;33m                 mapped = lib.map_infer(\n\u001b[0m\u001b[0;32m   1144\u001b[0m                     \u001b[0mvalues\u001b[0m\u001b[1;33m,\u001b[0m\u001b[1;33m\u001b[0m\u001b[1;33m\u001b[0m\u001b[0m\n\u001b[0;32m   1145\u001b[0m                     \u001b[0mf\u001b[0m\u001b[1;33m,\u001b[0m  \u001b[1;31m# type: ignore[arg-type]\u001b[0m\u001b[1;33m\u001b[0m\u001b[1;33m\u001b[0m\u001b[0m\n",
      "\u001b[1;32m~\\anaconda3.2\\lib\\site-packages\\pandas\\_libs\\lib.pyx\u001b[0m in \u001b[0;36mpandas._libs.lib.map_infer\u001b[1;34m()\u001b[0m\n",
      "\u001b[1;32m~\\anaconda3.2\\lib\\site-packages\\shapely\\wkt.py\u001b[0m in \u001b[0;36mloads\u001b[1;34m(data)\u001b[0m\n\u001b[0;32m     20\u001b[0m     \u001b[0mShapely\u001b[0m \u001b[0mgeometry\u001b[0m \u001b[0mobject\u001b[0m\u001b[1;33m\u001b[0m\u001b[1;33m\u001b[0m\u001b[0m\n\u001b[0;32m     21\u001b[0m     \"\"\"\n\u001b[1;32m---> 22\u001b[1;33m     \u001b[1;32mreturn\u001b[0m \u001b[0mshapely\u001b[0m\u001b[1;33m.\u001b[0m\u001b[0mfrom_wkt\u001b[0m\u001b[1;33m(\u001b[0m\u001b[0mdata\u001b[0m\u001b[1;33m)\u001b[0m\u001b[1;33m\u001b[0m\u001b[1;33m\u001b[0m\u001b[0m\n\u001b[0m\u001b[0;32m     23\u001b[0m \u001b[1;33m\u001b[0m\u001b[0m\n\u001b[0;32m     24\u001b[0m \u001b[1;33m\u001b[0m\u001b[0m\n",
      "\u001b[1;32m~\\anaconda3.2\\lib\\site-packages\\shapely\\io.py\u001b[0m in \u001b[0;36mfrom_wkt\u001b[1;34m(geometry, on_invalid, **kwargs)\u001b[0m\n\u001b[0;32m    280\u001b[0m     \u001b[0minvalid_handler\u001b[0m \u001b[1;33m=\u001b[0m \u001b[0mnp\u001b[0m\u001b[1;33m.\u001b[0m\u001b[0muint8\u001b[0m\u001b[1;33m(\u001b[0m\u001b[0mDecodingErrorOptions\u001b[0m\u001b[1;33m.\u001b[0m\u001b[0mget_value\u001b[0m\u001b[1;33m(\u001b[0m\u001b[0mon_invalid\u001b[0m\u001b[1;33m)\u001b[0m\u001b[1;33m)\u001b[0m\u001b[1;33m\u001b[0m\u001b[1;33m\u001b[0m\u001b[0m\n\u001b[0;32m    281\u001b[0m \u001b[1;33m\u001b[0m\u001b[0m\n\u001b[1;32m--> 282\u001b[1;33m     \u001b[1;32mreturn\u001b[0m \u001b[0mlib\u001b[0m\u001b[1;33m.\u001b[0m\u001b[0mfrom_wkt\u001b[0m\u001b[1;33m(\u001b[0m\u001b[0mgeometry\u001b[0m\u001b[1;33m,\u001b[0m \u001b[0minvalid_handler\u001b[0m\u001b[1;33m,\u001b[0m \u001b[1;33m**\u001b[0m\u001b[0mkwargs\u001b[0m\u001b[1;33m)\u001b[0m\u001b[1;33m\u001b[0m\u001b[1;33m\u001b[0m\u001b[0m\n\u001b[0m\u001b[0;32m    283\u001b[0m \u001b[1;33m\u001b[0m\u001b[0m\n\u001b[0;32m    284\u001b[0m \u001b[1;33m\u001b[0m\u001b[0m\n",
      "\u001b[1;31mTypeError\u001b[0m: Expected bytes or string, got Polygon"
     ]
    }
   ],
   "source": [
    "#exporting data to geojson\n",
    "gdf = gpd.GeoDataFrame(df, geometry=\"geometry\")\n",
    "newdf.to_file('cleaned_gdpr_data_map.geojson',driver=\"GeoJSON\" )"
   ]
  },
  {
   "cell_type": "code",
   "execution_count": null,
   "id": "8ea2e866",
   "metadata": {},
   "outputs": [],
   "source": []
  }
 ],
 "metadata": {
  "kernelspec": {
   "display_name": "Python 3 (ipykernel)",
   "language": "python",
   "name": "python3"
  },
  "language_info": {
   "codemirror_mode": {
    "name": "ipython",
    "version": 3
   },
   "file_extension": ".py",
   "mimetype": "text/x-python",
   "name": "python",
   "nbconvert_exporter": "python",
   "pygments_lexer": "ipython3",
   "version": "3.9.13"
  }
 },
 "nbformat": 4,
 "nbformat_minor": 5
}
