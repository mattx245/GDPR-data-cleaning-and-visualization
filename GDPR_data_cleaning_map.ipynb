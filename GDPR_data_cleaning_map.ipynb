{
 "cells": [
  {
   "cell_type": "markdown",
   "id": "7a0638db",
   "metadata": {},
   "source": [
    "Data cleaning for the gdpr violations dataset. To be used with the interactive Vega Lite visualization. Source: https://github.com/rfordatascience/tidytuesday/blob/master/data/2020/2020-04-21/readme.md "
   ]
  },
  {
   "cell_type": "code",
   "execution_count": 1,
   "id": "30815e68",
   "metadata": {},
   "outputs": [
    {
     "name": "stdout",
     "output_type": "stream",
     "text": [
      "<class 'pandas.core.frame.DataFrame'>\n",
      "RangeIndex: 250 entries, 0 to 249\n",
      "Data columns (total 11 columns):\n",
      " #   Column            Non-Null Count  Dtype \n",
      "---  ------            --------------  ----- \n",
      " 0   id                250 non-null    int64 \n",
      " 1   picture           250 non-null    object\n",
      " 2   name              250 non-null    object\n",
      " 3   price             250 non-null    int64 \n",
      " 4   authority         250 non-null    object\n",
      " 5   date              250 non-null    object\n",
      " 6   controller        250 non-null    object\n",
      " 7   article_violated  250 non-null    object\n",
      " 8   type              250 non-null    object\n",
      " 9   source            250 non-null    object\n",
      " 10  summary           250 non-null    object\n",
      "dtypes: int64(2), object(9)\n",
      "memory usage: 21.6+ KB\n"
     ]
    }
   ],
   "source": [
    "import pandas as pd\n",
    "import numpy as np\n",
    "\n",
    "#read dataframe from tsv\n",
    "df = pd.read_table(\"C:/Users/mattx/Downloads/gdpr_violations.tsv\")\n",
    "\n",
    "#basic info on dataframe columns\n",
    "df.info()"
   ]
  },
  {
   "cell_type": "code",
   "execution_count": 2,
   "id": "7c28b58c",
   "metadata": {},
   "outputs": [
    {
     "data": {
      "text/plain": [
       "0"
      ]
     },
     "execution_count": 2,
     "metadata": {},
     "output_type": "execute_result"
    }
   ],
   "source": [
    "#checking for duplicate values\n",
    "df.duplicated().sum()"
   ]
  },
  {
   "cell_type": "code",
   "execution_count": 3,
   "id": "207c0b0a",
   "metadata": {},
   "outputs": [],
   "source": [
    "#changing ID to object to reflect categorical nature\n",
    "df['id'] = df['id'].astype(object)"
   ]
  },
  {
   "cell_type": "code",
   "execution_count": 4,
   "id": "a98c65b7",
   "metadata": {},
   "outputs": [
    {
     "name": "stdout",
     "output_type": "stream",
     "text": [
      "<class 'pandas.core.frame.DataFrame'>\n",
      "RangeIndex: 250 entries, 0 to 249\n",
      "Data columns (total 8 columns):\n",
      " #   Column            Non-Null Count  Dtype \n",
      "---  ------            --------------  ----- \n",
      " 0   id                250 non-null    object\n",
      " 1   name              250 non-null    object\n",
      " 2   price             250 non-null    int64 \n",
      " 3   authority         250 non-null    object\n",
      " 4   date              250 non-null    object\n",
      " 5   controller        250 non-null    object\n",
      " 6   article_violated  250 non-null    object\n",
      " 7   type              250 non-null    object\n",
      "dtypes: int64(1), object(7)\n",
      "memory usage: 15.8+ KB\n"
     ]
    }
   ],
   "source": [
    "#removing source, summary, and picture, as they are not relevant to data visualization\n",
    "df = df.drop(columns=['picture', 'source', 'summary'])\n",
    "df.info()"
   ]
  },
  {
   "cell_type": "code",
   "execution_count": 5,
   "id": "8f373fd9",
   "metadata": {},
   "outputs": [
    {
     "name": "stdout",
     "output_type": "stream",
     "text": [
      "id: 0.0\n",
      "name: 0.0\n",
      "price: 0.0\n",
      "authority: 0.0\n",
      "date: 0.0\n",
      "controller: 0.0\n",
      "article_violated: 0.0\n",
      "type: 0.0\n"
     ]
    }
   ],
   "source": [
    "#checking for missing data\n",
    "for item in ['id', 'name', 'price', 'authority', 'date', 'controller', 'article_violated', 'type']:\n",
    "    pct_missing = df[item].isnull().sum() * 100 /len(df)\n",
    "    print(f\"{item}: {pct_missing}\")\n",
    "    \n",
    "#no missing data"
   ]
  },
  {
   "cell_type": "code",
   "execution_count": 7,
   "id": "331d159d",
   "metadata": {},
   "outputs": [
    {
     "name": "stdout",
     "output_type": "stream",
     "text": [
      "      name    article_violated\n",
      "0   Poland        Art. 28 GDPR\n",
      "1  Romania        Art. 12 GDPR\n",
      "2  Romania        Art. 13 GDPR\n",
      "3  Romania  Art. 5 (1) c) GDPR\n",
      "4  Romania         Art. 6 GDPR\n"
     ]
    }
   ],
   "source": [
    "#splitting multiple gdpr violations into rows and making a new dataframe with countrys/violations\n",
    "\n",
    "new = []\n",
    "\n",
    "for index, row in df.iterrows():\n",
    "    violations = row['article_violated'].split('|')\n",
    "    \n",
    "    for violation in violations:\n",
    "        uniquerow = {\n",
    "          'name':row['name'],\n",
    "            'article_violated':violation.strip()\n",
    "        }\n",
    "        new.append(uniquerow)\n",
    "\n",
    "newdf = pd.DataFrame(new)\n",
    "\n",
    "print(newdf.head())"
   ]
  },
  {
   "cell_type": "code",
   "execution_count": 10,
   "id": "311b3fee",
   "metadata": {},
   "outputs": [],
   "source": [
    "#exporting data to csv\n",
    "newdf.to_csv('cleaned_gdpr_data_map.csv', index=False)"
   ]
  }
 ],
 "metadata": {
  "kernelspec": {
   "display_name": "Python 3 (ipykernel)",
   "language": "python",
   "name": "python3"
  },
  "language_info": {
   "codemirror_mode": {
    "name": "ipython",
    "version": 3
   },
   "file_extension": ".py",
   "mimetype": "text/x-python",
   "name": "python",
   "nbconvert_exporter": "python",
   "pygments_lexer": "ipython3",
   "version": "3.9.13"
  }
 },
 "nbformat": 4,
 "nbformat_minor": 5
}
