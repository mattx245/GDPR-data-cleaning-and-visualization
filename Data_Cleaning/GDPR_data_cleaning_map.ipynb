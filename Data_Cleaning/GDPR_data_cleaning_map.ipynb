{
 "cells": [
  {
   "cell_type": "markdown",
   "id": "7a0638db",
   "metadata": {},
   "source": [
    "Data cleaning for the gdpr violations dataset. To be used with the interactive Vega Lite visualization. Source: https://github.com/rfordatascience/tidytuesday/blob/master/data/2020/2020-04-21/readme.md "
   ]
  },
  {
   "cell_type": "code",
   "execution_count": 113,
   "id": "30815e68",
   "metadata": {},
   "outputs": [
    {
     "name": "stdout",
     "output_type": "stream",
     "text": [
      "Requirement already satisfied: geopandas in c:\\users\\mattx\\anaconda3.2\\lib\\site-packages (0.14.1)\n",
      "Requirement already satisfied: pyproj>=3.3.0 in c:\\users\\mattx\\anaconda3.2\\lib\\site-packages (from geopandas) (3.6.1)\n",
      "Requirement already satisfied: packaging in c:\\users\\mattx\\anaconda3.2\\lib\\site-packages (from geopandas) (21.3)\n",
      "Requirement already satisfied: fiona>=1.8.21 in c:\\users\\mattx\\anaconda3.2\\lib\\site-packages (from geopandas) (1.9.5)\n",
      "Requirement already satisfied: pandas>=1.4.0 in c:\\users\\mattx\\anaconda3.2\\lib\\site-packages (from geopandas) (1.4.4)\n",
      "Requirement already satisfied: shapely>=1.8.0 in c:\\users\\mattx\\anaconda3.2\\lib\\site-packages (from geopandas) (2.0.2)\n",
      "Requirement already satisfied: attrs>=19.2.0 in c:\\users\\mattx\\anaconda3.2\\lib\\site-packages (from fiona>=1.8.21->geopandas) (21.4.0)\n",
      "Requirement already satisfied: setuptools in c:\\users\\mattx\\anaconda3.2\\lib\\site-packages (from fiona>=1.8.21->geopandas) (63.4.1)\n",
      "Requirement already satisfied: importlib-metadata in c:\\users\\mattx\\anaconda3.2\\lib\\site-packages (from fiona>=1.8.21->geopandas) (4.11.3)\n",
      "Requirement already satisfied: six in c:\\users\\mattx\\anaconda3.2\\lib\\site-packages (from fiona>=1.8.21->geopandas) (1.16.0)\n",
      "Requirement already satisfied: click-plugins>=1.0 in c:\\users\\mattx\\anaconda3.2\\lib\\site-packages (from fiona>=1.8.21->geopandas) (1.1.1)\n",
      "Requirement already satisfied: cligj>=0.5 in c:\\users\\mattx\\anaconda3.2\\lib\\site-packages (from fiona>=1.8.21->geopandas) (0.7.2)\n",
      "Requirement already satisfied: click~=8.0 in c:\\users\\mattx\\anaconda3.2\\lib\\site-packages (from fiona>=1.8.21->geopandas) (8.0.4)\n",
      "Requirement already satisfied: certifi in c:\\users\\mattx\\anaconda3.2\\lib\\site-packages (from fiona>=1.8.21->geopandas) (2022.12.7)\n",
      "Requirement already satisfied: numpy>=1.18.5 in c:\\users\\mattx\\anaconda3.2\\lib\\site-packages (from pandas>=1.4.0->geopandas) (1.21.5)\n",
      "Requirement already satisfied: pytz>=2020.1 in c:\\users\\mattx\\anaconda3.2\\lib\\site-packages (from pandas>=1.4.0->geopandas) (2022.1)\n",
      "Requirement already satisfied: python-dateutil>=2.8.1 in c:\\users\\mattx\\anaconda3.2\\lib\\site-packages (from pandas>=1.4.0->geopandas) (2.8.2)\n",
      "Requirement already satisfied: pyparsing!=3.0.5,>=2.0.2 in c:\\users\\mattx\\anaconda3.2\\lib\\site-packages (from packaging->geopandas) (3.0.9)\n",
      "Requirement already satisfied: colorama in c:\\users\\mattx\\anaconda3.2\\lib\\site-packages (from click~=8.0->fiona>=1.8.21->geopandas) (0.4.5)\n",
      "Requirement already satisfied: zipp>=0.5 in c:\\users\\mattx\\anaconda3.2\\lib\\site-packages (from importlib-metadata->fiona>=1.8.21->geopandas) (3.8.0)\n",
      "<class 'pandas.core.frame.DataFrame'>\n",
      "RangeIndex: 250 entries, 0 to 249\n",
      "Data columns (total 11 columns):\n",
      " #   Column            Non-Null Count  Dtype \n",
      "---  ------            --------------  ----- \n",
      " 0   id                250 non-null    int64 \n",
      " 1   picture           250 non-null    object\n",
      " 2   name              250 non-null    object\n",
      " 3   price             250 non-null    int64 \n",
      " 4   authority         250 non-null    object\n",
      " 5   date              250 non-null    object\n",
      " 6   controller        250 non-null    object\n",
      " 7   article_violated  250 non-null    object\n",
      " 8   type              250 non-null    object\n",
      " 9   source            250 non-null    object\n",
      " 10  summary           250 non-null    object\n",
      "dtypes: int64(2), object(9)\n",
      "memory usage: 21.6+ KB\n"
     ]
    }
   ],
   "source": [
    "import pandas as pd\n",
    "import numpy as np\n",
    "!pip install geopandas\n",
    "import geopandas as gpd\n",
    "from shapely.wkt import loads\n",
    "\n",
    "#read dataframe from tsv\n",
    "df = pd.read_table(\"C:/Users/mattx/Downloads/gdpr_violations.tsv\")\n",
    "\n",
    "#basic info on dataframe columns\n",
    "df.info()"
   ]
  },
  {
   "cell_type": "code",
   "execution_count": 115,
   "id": "7c28b58c",
   "metadata": {},
   "outputs": [
    {
     "data": {
      "text/plain": [
       "0"
      ]
     },
     "execution_count": 115,
     "metadata": {},
     "output_type": "execute_result"
    }
   ],
   "source": [
    "#checking for duplicate values\n",
    "df.duplicated().sum()"
   ]
  },
  {
   "cell_type": "code",
   "execution_count": 116,
   "id": "207c0b0a",
   "metadata": {},
   "outputs": [],
   "source": [
    "#changing ID to object to reflect categorical nature\n",
    "df['id'] = df['id'].astype(object)"
   ]
  },
  {
   "cell_type": "code",
   "execution_count": 117,
   "id": "a98c65b7",
   "metadata": {},
   "outputs": [
    {
     "name": "stdout",
     "output_type": "stream",
     "text": [
      "<class 'pandas.core.frame.DataFrame'>\n",
      "RangeIndex: 250 entries, 0 to 249\n",
      "Data columns (total 8 columns):\n",
      " #   Column            Non-Null Count  Dtype \n",
      "---  ------            --------------  ----- \n",
      " 0   id                250 non-null    object\n",
      " 1   name              250 non-null    object\n",
      " 2   price             250 non-null    int64 \n",
      " 3   authority         250 non-null    object\n",
      " 4   date              250 non-null    object\n",
      " 5   controller        250 non-null    object\n",
      " 6   article_violated  250 non-null    object\n",
      " 7   type              250 non-null    object\n",
      "dtypes: int64(1), object(7)\n",
      "memory usage: 15.8+ KB\n"
     ]
    }
   ],
   "source": [
    "#removing source, summary, and picture, as they are not relevant to data visualization\n",
    "df = df.drop(columns=['picture', 'source', 'summary'])\n",
    "df.info()"
   ]
  },
  {
   "cell_type": "code",
   "execution_count": 118,
   "id": "999b2e6d",
   "metadata": {},
   "outputs": [
    {
     "name": "stdout",
     "output_type": "stream",
     "text": [
      "id: 0.0\n",
      "name: 0.0\n",
      "price: 0.0\n",
      "authority: 0.0\n",
      "date: 0.0\n",
      "controller: 0.0\n",
      "article_violated: 0.0\n",
      "type: 0.0\n"
     ]
    }
   ],
   "source": [
    "#checking for missing data\n",
    "for item in ['id', 'name', 'price', 'authority', 'date', 'controller', 'article_violated', 'type']:\n",
    "    pct_missing = df[item].isnull().sum() * 100 /len(df)\n",
    "    print(f\"{item}: {pct_missing}\")\n",
    "    \n",
    "#no missing data"
   ]
  },
  {
   "cell_type": "code",
   "execution_count": 120,
   "id": "1f7876e7",
   "metadata": {},
   "outputs": [
    {
     "name": "stdout",
     "output_type": "stream",
     "text": [
      "       name     price\n",
      "0   Austria  18070100\n",
      "1   Belgium     39000\n",
      "2  Bulgaria   3226620\n",
      "3   Croatia         0\n",
      "4    Cyprus    121000\n"
     ]
    }
   ],
   "source": [
    "#summing the fines paid by the various countries\n",
    "df = df.groupby('name')['price'].sum().reset_index()\n",
    "\n",
    "print(df.head())"
   ]
  },
  {
   "cell_type": "code",
   "execution_count": 121,
   "id": "c54a9074",
   "metadata": {},
   "outputs": [
    {
     "name": "stderr",
     "output_type": "stream",
     "text": [
      "C:\\Users\\mattx\\AppData\\Local\\Temp\\ipykernel_9172\\1150336561.py:2: FutureWarning: The geopandas.dataset module is deprecated and will be removed in GeoPandas 1.0. You can get the original 'naturalearth_lowres' data from https://www.naturalearthdata.com/downloads/110m-cultural-vectors/.\n",
      "  world = gpd.read_file(gpd.datasets.get_path('naturalearth_lowres'))\n"
     ]
    },
    {
     "name": "stdout",
     "output_type": "stream",
     "text": [
      "       name     price                                           geometry\n",
      "0   Austria  18070100  POLYGON ((16.97967 48.12350, 16.90375 47.71487...\n",
      "1   Belgium     39000  POLYGON ((6.15666 50.80372, 6.04307 50.12805, ...\n",
      "2  Bulgaria   3226620  POLYGON ((22.65715 44.23492, 22.94483 43.82379...\n",
      "3   Croatia         0  POLYGON ((16.56481 46.50375, 16.88252 46.38063...\n",
      "4    Cyprus    121000  POLYGON ((32.73178 35.14003, 32.91957 35.08783...\n"
     ]
    }
   ],
   "source": [
    "#adding in geospatial data\n",
    "world = gpd.read_file(gpd.datasets.get_path('naturalearth_lowres'))\n",
    "\n",
    "df = pd.merge(df, world[['name', 'geometry']], how='left', on='name')\n",
    "\n",
    "print(df.head())"
   ]
  },
  {
   "cell_type": "code",
   "execution_count": 111,
   "id": "311b3fee",
   "metadata": {},
   "outputs": [],
   "source": [
    "#exporting data to geojson\n",
    "gdf = gpd.GeoDataFrame(df, geometry=\"geometry\")\n",
    "gdf.to_file('cleaned_gdpr_data_map_price.geojson',driver=\"GeoJSON\" )"
   ]
  }
 ],
 "metadata": {
  "kernelspec": {
   "display_name": "Python 3 (ipykernel)",
   "language": "python",
   "name": "python3"
  },
  "language_info": {
   "codemirror_mode": {
    "name": "ipython",
    "version": 3
   },
   "file_extension": ".py",
   "mimetype": "text/x-python",
   "name": "python",
   "nbconvert_exporter": "python",
   "pygments_lexer": "ipython3",
   "version": "3.9.13"
  }
 },
 "nbformat": 4,
 "nbformat_minor": 5
}
